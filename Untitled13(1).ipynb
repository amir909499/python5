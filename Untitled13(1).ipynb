{
 "cells": [
  {
   "cell_type": "code",
   "execution_count": 6,
   "id": "0ffa32db-0900-4ff2-8bef-00df05d6363f",
   "metadata": {},
   "outputs": [],
   "source": [
    "def a(x1,a,n,y):\n",
    "    c=x1-a*(2*(n-y))\n",
    "    return c"
   ]
  },
  {
   "cell_type": "code",
   "execution_count": 7,
   "id": "7515bd7c-3cf4-4ef2-93fc-8c5c2b1010b7",
   "metadata": {},
   "outputs": [
    {
     "data": {
      "text/plain": [
       "-18"
      ]
     },
     "execution_count": 7,
     "metadata": {},
     "output_type": "execute_result"
    }
   ],
   "source": [
    "a(20,19,18,17)"
   ]
  },
  {
   "cell_type": "code",
   "execution_count": null,
   "id": "90d12678-0959-4f54-b2e3-5f8dd08524af",
   "metadata": {},
   "outputs": [],
   "source": []
  }
 ],
 "metadata": {
  "kernelspec": {
   "display_name": "Python 3 (ipykernel)",
   "language": "python",
   "name": "python3"
  },
  "language_info": {
   "codemirror_mode": {
    "name": "ipython",
    "version": 3
   },
   "file_extension": ".py",
   "mimetype": "text/x-python",
   "name": "python",
   "nbconvert_exporter": "python",
   "pygments_lexer": "ipython3",
   "version": "3.8.1"
  }
 },
 "nbformat": 4,
 "nbformat_minor": 5
}
