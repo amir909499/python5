{
 "cells": [
  {
   "cell_type": "code",
   "execution_count": 1,
   "id": "b8821ae2-eb97-4764-a14c-6c0140fb2715",
   "metadata": {},
   "outputs": [
    {
     "name": "stdout",
     "output_type": "stream",
     "text": [
      "0.9972299168975068\n"
     ]
    }
   ],
   "source": [
    "def sin(opp,nyp):\n",
    "    x=opp/nyp\n",
    "    return x\n",
    "def cos(opp,adj):\n",
    "    c=opp/adj\n",
    "    return c\n",
    "\n",
    "a=sin(20,19)/cos(20,18)*sin(20,19)\n",
    "print(a)"
   ]
  },
  {
   "cell_type": "code",
   "execution_count": null,
   "id": "67597c4d-b23b-43e9-a5a5-90d0a4aecac3",
   "metadata": {},
   "outputs": [],
   "source": []
  }
 ],
 "metadata": {
  "kernelspec": {
   "display_name": "Python 3 (ipykernel)",
   "language": "python",
   "name": "python3"
  },
  "language_info": {
   "codemirror_mode": {
    "name": "ipython",
    "version": 3
   },
   "file_extension": ".py",
   "mimetype": "text/x-python",
   "name": "python",
   "nbconvert_exporter": "python",
   "pygments_lexer": "ipython3",
   "version": "3.8.1"
  }
 },
 "nbformat": 4,
 "nbformat_minor": 5
}
