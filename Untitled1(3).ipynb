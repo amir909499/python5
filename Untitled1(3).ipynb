{
 "cells": [
  {
   "cell_type": "code",
   "execution_count": 5,
   "id": "4f6052bc-e223-4a3d-9918-dbd2099683f0",
   "metadata": {},
   "outputs": [
    {
     "name": "stdout",
     "output_type": "stream",
     "text": [
      "2.1637426900584797\n"
     ]
    }
   ],
   "source": [
    "def sin(opp,nyp):\n",
    "    x=opp/nyp\n",
    "    return x\n",
    "def cos(opp,adj):\n",
    "    c=opp/adj\n",
    "    return c\n",
    "a=sin(20,19)+cos(20,18)\n",
    "print(a)"
   ]
  },
  {
   "cell_type": "code",
   "execution_count": null,
   "id": "832e6920-1aaa-4427-9879-a88e3f57d59d",
   "metadata": {},
   "outputs": [],
   "source": []
  }
 ],
 "metadata": {
  "kernelspec": {
   "display_name": "Python 3 (ipykernel)",
   "language": "python",
   "name": "python3"
  },
  "language_info": {
   "codemirror_mode": {
    "name": "ipython",
    "version": 3
   },
   "file_extension": ".py",
   "mimetype": "text/x-python",
   "name": "python",
   "nbconvert_exporter": "python",
   "pygments_lexer": "ipython3",
   "version": "3.8.1"
  }
 },
 "nbformat": 4,
 "nbformat_minor": 5
}
