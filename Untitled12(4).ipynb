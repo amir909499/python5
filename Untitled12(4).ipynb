{
 "cells": [
  {
   "cell_type": "code",
   "execution_count": 1,
   "id": "82881a71-3459-40f8-b26d-25b74d26083c",
   "metadata": {},
   "outputs": [],
   "source": [
    "import math\n",
    "def a(x,y,t):\n",
    "    c=math.sqrt (x-y)/t\n",
    "    return c"
   ]
  },
  {
   "cell_type": "code",
   "execution_count": 2,
   "id": "910617a5-740d-4c76-9eda-84cf567a6fdc",
   "metadata": {},
   "outputs": [
    {
     "data": {
      "text/plain": [
       "0.05555555555555555"
      ]
     },
     "execution_count": 2,
     "metadata": {},
     "output_type": "execute_result"
    }
   ],
   "source": [
    "a(20,19,18)"
   ]
  },
  {
   "cell_type": "code",
   "execution_count": null,
   "id": "43b0c9bc-173f-420c-860a-a4cd62b93c51",
   "metadata": {},
   "outputs": [],
   "source": []
  }
 ],
 "metadata": {
  "kernelspec": {
   "display_name": "Python 3 (ipykernel)",
   "language": "python",
   "name": "python3"
  },
  "language_info": {
   "codemirror_mode": {
    "name": "ipython",
    "version": 3
   },
   "file_extension": ".py",
   "mimetype": "text/x-python",
   "name": "python",
   "nbconvert_exporter": "python",
   "pygments_lexer": "ipython3",
   "version": "3.8.1"
  }
 },
 "nbformat": 4,
 "nbformat_minor": 5
}
