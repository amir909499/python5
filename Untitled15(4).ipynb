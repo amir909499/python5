{
 "cells": [
  {
   "cell_type": "code",
   "execution_count": 11,
   "id": "2bf932f1-7d7d-4956-a397-081e1cb173ee",
   "metadata": {},
   "outputs": [],
   "source": [
    "def a(amir):\n",
    "    if amir==amir[::-1]:\n",
    "        return True\n",
    "    else:\n",
    "        return False"
   ]
  },
  {
   "cell_type": "code",
   "execution_count": 12,
   "id": "9e5f31f7-3e58-4b13-9b58-2aec1e6ad2c5",
   "metadata": {},
   "outputs": [
    {
     "data": {
      "text/plain": [
       "False"
      ]
     },
     "execution_count": 12,
     "metadata": {},
     "output_type": "execute_result"
    }
   ],
   "source": [
    "a(\"amir\")"
   ]
  },
  {
   "cell_type": "code",
   "execution_count": null,
   "id": "ba8b7d2c-72de-49a1-bfea-36b366fc0545",
   "metadata": {},
   "outputs": [],
   "source": []
  }
 ],
 "metadata": {
  "kernelspec": {
   "display_name": "Python 3 (ipykernel)",
   "language": "python",
   "name": "python3"
  },
  "language_info": {
   "codemirror_mode": {
    "name": "ipython",
    "version": 3
   },
   "file_extension": ".py",
   "mimetype": "text/x-python",
   "name": "python",
   "nbconvert_exporter": "python",
   "pygments_lexer": "ipython3",
   "version": "3.8.1"
  }
 },
 "nbformat": 4,
 "nbformat_minor": 5
}
