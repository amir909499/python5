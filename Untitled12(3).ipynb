{
 "cells": [
  {
   "cell_type": "code",
   "execution_count": 1,
   "id": "088a2d7a-e0c3-4f49-9929-ee8d3fa6f3bc",
   "metadata": {},
   "outputs": [],
   "source": [
    "def a(a,b):\n",
    "    if a%b==0:\n",
    "        print(True)\n",
    "    else:\n",
    "        print(False)"
   ]
  },
  {
   "cell_type": "code",
   "execution_count": 2,
   "id": "8651d4c3-115e-4579-8081-f632bd3937e9",
   "metadata": {},
   "outputs": [
    {
     "name": "stdout",
     "output_type": "stream",
     "text": [
      "True\n"
     ]
    }
   ],
   "source": [
    "a(20,20)"
   ]
  },
  {
   "cell_type": "code",
   "execution_count": null,
   "id": "d0a739d2-f5c1-48d1-abc1-a84dbf358671",
   "metadata": {},
   "outputs": [],
   "source": []
  }
 ],
 "metadata": {
  "kernelspec": {
   "display_name": "Python 3 (ipykernel)",
   "language": "python",
   "name": "python3"
  },
  "language_info": {
   "codemirror_mode": {
    "name": "ipython",
    "version": 3
   },
   "file_extension": ".py",
   "mimetype": "text/x-python",
   "name": "python",
   "nbconvert_exporter": "python",
   "pygments_lexer": "ipython3",
   "version": "3.8.1"
  }
 },
 "nbformat": 4,
 "nbformat_minor": 5
}
